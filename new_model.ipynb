{
 "cells": [
  {
   "cell_type": "code",
   "execution_count": 1,
   "metadata": {},
   "outputs": [
    {
     "name": "stderr",
     "output_type": "stream",
     "text": [
      "/home/dhakal/anaconda3/envs/URT_NSCL/lib/python3.12/site-packages/anndata/utils.py:429: FutureWarning: Importing read_csv from `anndata` is deprecated. Import anndata.io.read_csv instead.\n",
      "  warnings.warn(msg, FutureWarning)\n",
      "/home/dhakal/anaconda3/envs/URT_NSCL/lib/python3.12/site-packages/anndata/utils.py:429: FutureWarning: Importing read_loom from `anndata` is deprecated. Import anndata.io.read_loom instead.\n",
      "  warnings.warn(msg, FutureWarning)\n",
      "/home/dhakal/anaconda3/envs/URT_NSCL/lib/python3.12/site-packages/anndata/utils.py:429: FutureWarning: Importing read_text from `anndata` is deprecated. Import anndata.io.read_text instead.\n",
      "  warnings.warn(msg, FutureWarning)\n",
      "/home/dhakal/anaconda3/envs/URT_NSCL/lib/python3.12/site-packages/anndata/utils.py:429: FutureWarning: Importing CSCDataset from `anndata.experimental` is deprecated. Import anndata.abc.CSCDataset instead.\n",
      "  warnings.warn(msg, FutureWarning)\n",
      "/home/dhakal/anaconda3/envs/URT_NSCL/lib/python3.12/site-packages/anndata/utils.py:429: FutureWarning: Importing CSRDataset from `anndata.experimental` is deprecated. Import anndata.abc.CSRDataset instead.\n",
      "  warnings.warn(msg, FutureWarning)\n",
      "/home/dhakal/anaconda3/envs/URT_NSCL/lib/python3.12/site-packages/anndata/utils.py:429: FutureWarning: Importing read_elem from `anndata.experimental` is deprecated. Import anndata.io.read_elem instead.\n",
      "  warnings.warn(msg, FutureWarning)\n",
      "/home/dhakal/anaconda3/envs/URT_NSCL/lib/python3.12/site-packages/tqdm/auto.py:21: TqdmWarning: IProgress not found. Please update jupyter and ipywidgets. See https://ipywidgets.readthedocs.io/en/stable/user_install.html\n",
      "  from .autonotebook import tqdm as notebook_tqdm\n",
      "2024-12-16 09:45:11.393968: E external/local_xla/xla/stream_executor/cuda/cuda_fft.cc:477] Unable to register cuFFT factory: Attempting to register factory for plugin cuFFT when one has already been registered\n",
      "WARNING: All log messages before absl::InitializeLog() is called are written to STDERR\n",
      "E0000 00:00:1734309911.412313   23340 cuda_dnn.cc:8310] Unable to register cuDNN factory: Attempting to register factory for plugin cuDNN when one has already been registered\n",
      "E0000 00:00:1734309911.417963   23340 cuda_blas.cc:1418] Unable to register cuBLAS factory: Attempting to register factory for plugin cuBLAS when one has already been registered\n"
     ]
    }
   ],
   "source": [
    "import pandas as pd\n",
    "import numpy as np\n",
    "import matplotlib.pyplot as plt\n",
    "import seaborn as sns\n",
    "\n",
    "import os\n",
    "import scanpy as sc\n",
    "import scvi\n",
    "import anndata\n",
    "import scipy.sparse as sp\n",
    "\n",
    "from sklearn.preprocessing import StandardScaler\n",
    "import tensorflow as tf\n",
    "from tensorflow.keras import layers\n",
    "from sklearn.preprocessing import OneHotEncoder\n",
    "from sklearn.model_selection import train_test_split\n",
    "import torch\n",
    "import torch.nn as nn\n",
    "import torch.optim as optim\n",
    "from torch.utils.data import TensorDataset, DataLoader\n",
    "SEED = 42\n",
    "np.random.seed(SEED)\n",
    "# Set TensorFlow to use CPU for debugging\n",
    "os.environ[\"CUDA_VISIBLE_DEVICES\"] = \"-1\""
   ]
  },
  {
   "cell_type": "code",
   "execution_count": 2,
   "metadata": {},
   "outputs": [],
   "source": [
    "lca_data = sc.read_h5ad(\"data/cell_atlas_of_the_human_lung_in_health_and_disease_full.h5ad\")"
   ]
  },
  {
   "cell_type": "code",
   "execution_count": 3,
   "metadata": {},
   "outputs": [
    {
     "name": "stdout",
     "output_type": "stream",
     "text": [
      "AnnData object with n_obs × n_vars = 2282447 × 56239\n",
      "    obs: 'suspension_type', 'donor_id', 'is_primary_data', 'assay_ontology_term_id', 'cell_type_ontology_term_id', 'development_stage_ontology_term_id', 'disease_ontology_term_id', 'self_reported_ethnicity_ontology_term_id', 'tissue_ontology_term_id', 'organism_ontology_term_id', 'sex_ontology_term_id', \"3'_or_5'\", 'BMI', 'age_or_mean_of_age_range', 'age_range', 'anatomical_region_ccf_score', 'ann_coarse_for_GWAS_and_modeling', 'ann_finest_level', 'ann_level_1', 'ann_level_2', 'ann_level_3', 'ann_level_4', 'ann_level_5', 'cause_of_death', 'core_or_extension', 'dataset', 'fresh_or_frozen', 'log10_total_counts', 'lung_condition', 'mixed_ancestry', 'original_ann_level_1', 'original_ann_level_2', 'original_ann_level_3', 'original_ann_level_4', 'original_ann_level_5', 'original_ann_nonharmonized', 'reannotation_type', 'sample', 'scanvi_label', 'sequencing_platform', 'smoking_status', 'study', 'subject_type', 'tissue_coarse_unharmonized', 'tissue_detailed_unharmonized', 'tissue_dissociation_protocol', 'tissue_level_2', 'tissue_level_3', 'tissue_sampling_method', 'total_counts', 'transf_ann_level_1_label', 'transf_ann_level_1_uncert', 'transf_ann_level_2_label', 'transf_ann_level_2_uncert', 'transf_ann_level_3_label', 'transf_ann_level_3_uncert', 'transf_ann_level_4_label', 'transf_ann_level_4_uncert', 'transf_ann_level_5_label', 'transf_ann_level_5_uncert', 'tissue_type', 'cell_type', 'assay', 'disease', 'organism', 'sex', 'tissue', 'self_reported_ethnicity', 'development_stage', 'observation_joinid'\n",
      "    var: 'feature_is_filtered', 'original_gene_symbols', 'feature_name', 'feature_reference', 'feature_biotype', 'feature_length', 'feature_type'\n",
      "    uns: 'batch_condition', 'citation', 'default_embedding', 'schema_reference', 'schema_version', 'title'\n",
      "    obsm: 'X_scanvi_emb', 'X_umap'\n",
      "    layers: 'soupX'\n",
      "    obsp: 'connectivities', 'distances'\n"
     ]
    }
   ],
   "source": [
    "print(lca_data)"
   ]
  },
  {
   "cell_type": "code",
   "execution_count": 4,
   "metadata": {},
   "outputs": [],
   "source": [
    "def preprocess_lung_cell_atlas(adata, \n",
    "                                cell_level_1='Epithelial', \n",
    "                                cell_levels_2=['Airway epithelium', 'Alveolar epithelium', 'Submucosal Gland'],\n",
    "                                cell_levels_3=['Basal', 'Secretory', 'Submucosal Secretory'],\n",
    "                                cell_levels_4=['Basal resting', 'Club', 'Deuterosomal', 'Goblet', \n",
    "                                               'Hillock-like', 'SMG duct', 'SMG mucous', \n",
    "                                               'SMG serous', 'Suprabasal', 'Transitional Club-AT2'],\n",
    "                                cell_levels_5=['Club (non-nasal)', 'Goblet (bronchial)', \n",
    "                                               'Goblet (nasal)', 'Goblet (subsegmental)', \n",
    "                                               'SMG serous (bronchial)', 'SMG serous (nasal)', \n",
    "                                               'pre-TB secretory'],\n",
    "                                n_top_genes=4000):\n",
    "    \"\"\"\n",
    "    Preprocess Lung Cell Atlas AnnData for deep learning\n",
    "    \n",
    "    Parameters:\n",
    "    -----------\n",
    "    adata : AnnData\n",
    "        Input annotated data matrix\n",
    "    cell_level_*: list of str\n",
    "        Specified cell types to filter at different hierarchical levels\n",
    "    n_top_genes : int\n",
    "        Number of top genes to select\n",
    "    \n",
    "    Returns:\n",
    "    --------\n",
    "    adata_filtered : AnnData\n",
    "        Preprocessed and filtered AnnData object\n",
    "    \"\"\"\n",
    "    # 1. Filter cell types based on specified levels\n",
    "    # Create a boolean mask for cell type selection\n",
    "    cell_type_mask = (\n",
    "        (adata.obs['ann_level_1'] == cell_level_1) & \n",
    "        (adata.obs['ann_level_2'].isin(cell_levels_2)) &\n",
    "        (adata.obs['ann_level_3'].isin(cell_levels_3)) &\n",
    "        (adata.obs['ann_level_4'].isin(cell_levels_4)) &\n",
    "        (adata.obs['ann_level_5'].isin(cell_levels_5))\n",
    "    )\n",
    "    \n",
    "    # Filter the AnnData object\n",
    "    adata_filtered = adata[cell_type_mask].copy()\n",
    "    \n",
    "    # 2. Preprocessing steps\n",
    "    # Log normalize the data\n",
    "    sc.pp.normalize_total(adata_filtered, target_sum=1e4)\n",
    "    sc.pp.log1p(adata_filtered)\n",
    "    \n",
    "    # 3. Select top genes\n",
    "    # Use highly variable gene selection with specified number of top genes\n",
    "    sc.pp.highly_variable_genes(adata_filtered, \n",
    "                                 min_mean=0.0125, \n",
    "                                 max_mean=3, \n",
    "                                 min_disp=0.5,\n",
    "                                 n_top_genes=n_top_genes)\n",
    "    \n",
    "    # Select only the top n_top_genes\n",
    "    adata_filtered = adata_filtered[:, adata_filtered.var.highly_variable]\n",
    "    \n",
    "    # 4. Prepare label encoding for disease\n",
    "    # Create a label encoder for diseases\n",
    "    disease_encoder = {disease: idx for idx, disease in enumerate(adata_filtered.obs['disease'].unique())}\n",
    "    adata_filtered.obs['disease_label'] = adata_filtered.obs['disease'].map(disease_encoder)\n",
    "    \n",
    "    # 5. Optional: Scaling features\n",
    "    sc.pp.scale(adata_filtered, max_value=10)\n",
    "    \n",
    "    # 6. Store additional metadata\n",
    "    adata_filtered.uns['disease_encoder'] = disease_encoder\n",
    "    adata_filtered.uns['n_top_genes'] = n_top_genes\n",
    "    \n",
    "    return adata_filtered"
   ]
  },
  {
   "cell_type": "code",
   "execution_count": 5,
   "metadata": {},
   "outputs": [
    {
     "name": "stderr",
     "output_type": "stream",
     "text": [
      "/tmp/ipykernel_23340/2842646956.py:62: ImplicitModificationWarning: Trying to modify attribute `.obs` of view, initializing view as actual.\n",
      "  adata_filtered.obs['disease_label'] = adata_filtered.obs['disease'].map(disease_encoder)\n"
     ]
    }
   ],
   "source": [
    "prep_data = preprocess_lung_cell_atlas(lca_data)"
   ]
  },
  {
   "cell_type": "code",
   "execution_count": 6,
   "metadata": {},
   "outputs": [],
   "source": [
    "exp_data = pd.DataFrame(prep_data.X, columns=prep_data.var['feature_name'].values)"
   ]
  },
  {
   "cell_type": "code",
   "execution_count": 7,
   "metadata": {},
   "outputs": [],
   "source": [
    "exp_data['disease'] = prep_data.obs['disease'].values"
   ]
  },
  {
   "cell_type": "code",
   "execution_count": 8,
   "metadata": {},
   "outputs": [
    {
     "data": {
      "text/plain": [
       "(106931, 4001)"
      ]
     },
     "execution_count": 8,
     "metadata": {},
     "output_type": "execute_result"
    }
   ],
   "source": [
    "exp_data.shape"
   ]
  },
  {
   "cell_type": "code",
   "execution_count": 9,
   "metadata": {},
   "outputs": [
    {
     "data": {
      "text/html": [
       "<div>\n",
       "<style scoped>\n",
       "    .dataframe tbody tr th:only-of-type {\n",
       "        vertical-align: middle;\n",
       "    }\n",
       "\n",
       "    .dataframe tbody tr th {\n",
       "        vertical-align: top;\n",
       "    }\n",
       "\n",
       "    .dataframe thead th {\n",
       "        text-align: right;\n",
       "    }\n",
       "</style>\n",
       "<table border=\"1\" class=\"dataframe\">\n",
       "  <thead>\n",
       "    <tr style=\"text-align: right;\">\n",
       "      <th></th>\n",
       "      <th>A2M</th>\n",
       "      <th>A2ML1</th>\n",
       "      <th>ABALON</th>\n",
       "      <th>ABCA1</th>\n",
       "      <th>ABCA8</th>\n",
       "      <th>ABCB1</th>\n",
       "      <th>ABCC11</th>\n",
       "      <th>ABCG4</th>\n",
       "      <th>ABHD5</th>\n",
       "      <th>ABLIM3</th>\n",
       "      <th>...</th>\n",
       "      <th>ZNF460</th>\n",
       "      <th>ZNF474-AS1</th>\n",
       "      <th>ZNF542P_ENSG00000240225</th>\n",
       "      <th>ZNF593OS</th>\n",
       "      <th>ZNF728</th>\n",
       "      <th>ZNRD2-DT</th>\n",
       "      <th>ZRANB2-DT</th>\n",
       "      <th>ZSWIM2</th>\n",
       "      <th>ZSWIM8-AS1</th>\n",
       "      <th>disease</th>\n",
       "    </tr>\n",
       "  </thead>\n",
       "  <tbody>\n",
       "    <tr>\n",
       "      <th>0</th>\n",
       "      <td>-0.094079</td>\n",
       "      <td>-0.192755</td>\n",
       "      <td>-0.088329</td>\n",
       "      <td>-0.246342</td>\n",
       "      <td>-0.038406</td>\n",
       "      <td>-0.02932</td>\n",
       "      <td>-0.06462</td>\n",
       "      <td>-0.011724</td>\n",
       "      <td>-0.468072</td>\n",
       "      <td>-0.141087</td>\n",
       "      <td>...</td>\n",
       "      <td>-0.200778</td>\n",
       "      <td>-0.005439</td>\n",
       "      <td>-0.013607</td>\n",
       "      <td>-0.054294</td>\n",
       "      <td>-0.012434</td>\n",
       "      <td>-0.011179</td>\n",
       "      <td>-0.036577</td>\n",
       "      <td>-0.003058</td>\n",
       "      <td>-0.011319</td>\n",
       "      <td>normal</td>\n",
       "    </tr>\n",
       "    <tr>\n",
       "      <th>1</th>\n",
       "      <td>-0.094079</td>\n",
       "      <td>-0.192755</td>\n",
       "      <td>-0.088329</td>\n",
       "      <td>-0.246342</td>\n",
       "      <td>-0.038406</td>\n",
       "      <td>-0.02932</td>\n",
       "      <td>-0.06462</td>\n",
       "      <td>-0.011724</td>\n",
       "      <td>-0.468072</td>\n",
       "      <td>-0.141087</td>\n",
       "      <td>...</td>\n",
       "      <td>-0.200778</td>\n",
       "      <td>-0.005439</td>\n",
       "      <td>-0.013607</td>\n",
       "      <td>-0.054294</td>\n",
       "      <td>-0.012434</td>\n",
       "      <td>-0.011179</td>\n",
       "      <td>-0.036577</td>\n",
       "      <td>-0.003058</td>\n",
       "      <td>-0.011319</td>\n",
       "      <td>normal</td>\n",
       "    </tr>\n",
       "    <tr>\n",
       "      <th>2</th>\n",
       "      <td>-0.094079</td>\n",
       "      <td>-0.192755</td>\n",
       "      <td>-0.088329</td>\n",
       "      <td>-0.246342</td>\n",
       "      <td>-0.038406</td>\n",
       "      <td>-0.02932</td>\n",
       "      <td>-0.06462</td>\n",
       "      <td>-0.011724</td>\n",
       "      <td>-0.468072</td>\n",
       "      <td>-0.141087</td>\n",
       "      <td>...</td>\n",
       "      <td>-0.200778</td>\n",
       "      <td>-0.005439</td>\n",
       "      <td>-0.013607</td>\n",
       "      <td>-0.054294</td>\n",
       "      <td>-0.012434</td>\n",
       "      <td>-0.011179</td>\n",
       "      <td>-0.036577</td>\n",
       "      <td>-0.003058</td>\n",
       "      <td>-0.011319</td>\n",
       "      <td>normal</td>\n",
       "    </tr>\n",
       "    <tr>\n",
       "      <th>3</th>\n",
       "      <td>-0.094079</td>\n",
       "      <td>-0.192755</td>\n",
       "      <td>-0.088329</td>\n",
       "      <td>0.850272</td>\n",
       "      <td>-0.038406</td>\n",
       "      <td>-0.02932</td>\n",
       "      <td>-0.06462</td>\n",
       "      <td>-0.011724</td>\n",
       "      <td>-0.468072</td>\n",
       "      <td>-0.141087</td>\n",
       "      <td>...</td>\n",
       "      <td>-0.200778</td>\n",
       "      <td>-0.005439</td>\n",
       "      <td>-0.013607</td>\n",
       "      <td>-0.054294</td>\n",
       "      <td>-0.012434</td>\n",
       "      <td>-0.011179</td>\n",
       "      <td>-0.036577</td>\n",
       "      <td>-0.003058</td>\n",
       "      <td>-0.011319</td>\n",
       "      <td>normal</td>\n",
       "    </tr>\n",
       "    <tr>\n",
       "      <th>4</th>\n",
       "      <td>-0.094079</td>\n",
       "      <td>-0.192755</td>\n",
       "      <td>-0.088329</td>\n",
       "      <td>-0.246342</td>\n",
       "      <td>-0.038406</td>\n",
       "      <td>-0.02932</td>\n",
       "      <td>-0.06462</td>\n",
       "      <td>-0.011724</td>\n",
       "      <td>-0.468072</td>\n",
       "      <td>-0.141087</td>\n",
       "      <td>...</td>\n",
       "      <td>-0.200778</td>\n",
       "      <td>-0.005439</td>\n",
       "      <td>-0.013607</td>\n",
       "      <td>-0.054294</td>\n",
       "      <td>-0.012434</td>\n",
       "      <td>-0.011179</td>\n",
       "      <td>-0.036577</td>\n",
       "      <td>-0.003058</td>\n",
       "      <td>-0.011319</td>\n",
       "      <td>normal</td>\n",
       "    </tr>\n",
       "    <tr>\n",
       "      <th>5</th>\n",
       "      <td>-0.094079</td>\n",
       "      <td>-0.192755</td>\n",
       "      <td>-0.088329</td>\n",
       "      <td>2.011213</td>\n",
       "      <td>-0.038406</td>\n",
       "      <td>-0.02932</td>\n",
       "      <td>-0.06462</td>\n",
       "      <td>-0.011724</td>\n",
       "      <td>0.941356</td>\n",
       "      <td>-0.141087</td>\n",
       "      <td>...</td>\n",
       "      <td>-0.200778</td>\n",
       "      <td>-0.005439</td>\n",
       "      <td>-0.013607</td>\n",
       "      <td>-0.054294</td>\n",
       "      <td>-0.012434</td>\n",
       "      <td>-0.011179</td>\n",
       "      <td>-0.036577</td>\n",
       "      <td>-0.003058</td>\n",
       "      <td>-0.011319</td>\n",
       "      <td>normal</td>\n",
       "    </tr>\n",
       "    <tr>\n",
       "      <th>6</th>\n",
       "      <td>-0.094079</td>\n",
       "      <td>-0.192755</td>\n",
       "      <td>-0.088329</td>\n",
       "      <td>-0.246342</td>\n",
       "      <td>-0.038406</td>\n",
       "      <td>-0.02932</td>\n",
       "      <td>-0.06462</td>\n",
       "      <td>-0.011724</td>\n",
       "      <td>-0.468072</td>\n",
       "      <td>-0.141087</td>\n",
       "      <td>...</td>\n",
       "      <td>-0.200778</td>\n",
       "      <td>-0.005439</td>\n",
       "      <td>-0.013607</td>\n",
       "      <td>-0.054294</td>\n",
       "      <td>-0.012434</td>\n",
       "      <td>-0.011179</td>\n",
       "      <td>-0.036577</td>\n",
       "      <td>-0.003058</td>\n",
       "      <td>-0.011319</td>\n",
       "      <td>normal</td>\n",
       "    </tr>\n",
       "    <tr>\n",
       "      <th>7</th>\n",
       "      <td>-0.094079</td>\n",
       "      <td>-0.192755</td>\n",
       "      <td>-0.088329</td>\n",
       "      <td>-0.246342</td>\n",
       "      <td>-0.038406</td>\n",
       "      <td>-0.02932</td>\n",
       "      <td>-0.06462</td>\n",
       "      <td>-0.011724</td>\n",
       "      <td>-0.468072</td>\n",
       "      <td>-0.141087</td>\n",
       "      <td>...</td>\n",
       "      <td>-0.200778</td>\n",
       "      <td>-0.005439</td>\n",
       "      <td>-0.013607</td>\n",
       "      <td>-0.054294</td>\n",
       "      <td>-0.012434</td>\n",
       "      <td>-0.011179</td>\n",
       "      <td>-0.036577</td>\n",
       "      <td>-0.003058</td>\n",
       "      <td>-0.011319</td>\n",
       "      <td>normal</td>\n",
       "    </tr>\n",
       "    <tr>\n",
       "      <th>8</th>\n",
       "      <td>-0.094079</td>\n",
       "      <td>-0.192755</td>\n",
       "      <td>-0.088329</td>\n",
       "      <td>-0.246342</td>\n",
       "      <td>-0.038406</td>\n",
       "      <td>-0.02932</td>\n",
       "      <td>-0.06462</td>\n",
       "      <td>-0.011724</td>\n",
       "      <td>0.425160</td>\n",
       "      <td>-0.141087</td>\n",
       "      <td>...</td>\n",
       "      <td>-0.200778</td>\n",
       "      <td>-0.005439</td>\n",
       "      <td>-0.013607</td>\n",
       "      <td>-0.054294</td>\n",
       "      <td>-0.012434</td>\n",
       "      <td>-0.011179</td>\n",
       "      <td>-0.036577</td>\n",
       "      <td>-0.003058</td>\n",
       "      <td>-0.011319</td>\n",
       "      <td>normal</td>\n",
       "    </tr>\n",
       "    <tr>\n",
       "      <th>9</th>\n",
       "      <td>-0.094079</td>\n",
       "      <td>-0.192755</td>\n",
       "      <td>-0.088329</td>\n",
       "      <td>-0.246342</td>\n",
       "      <td>-0.038406</td>\n",
       "      <td>-0.02932</td>\n",
       "      <td>-0.06462</td>\n",
       "      <td>-0.011724</td>\n",
       "      <td>-0.468072</td>\n",
       "      <td>-0.141087</td>\n",
       "      <td>...</td>\n",
       "      <td>-0.200778</td>\n",
       "      <td>-0.005439</td>\n",
       "      <td>-0.013607</td>\n",
       "      <td>-0.054294</td>\n",
       "      <td>-0.012434</td>\n",
       "      <td>-0.011179</td>\n",
       "      <td>-0.036577</td>\n",
       "      <td>-0.003058</td>\n",
       "      <td>-0.011319</td>\n",
       "      <td>normal</td>\n",
       "    </tr>\n",
       "  </tbody>\n",
       "</table>\n",
       "<p>10 rows × 4001 columns</p>\n",
       "</div>"
      ],
      "text/plain": [
       "        A2M     A2ML1    ABALON     ABCA1     ABCA8    ABCB1   ABCC11  \\\n",
       "0 -0.094079 -0.192755 -0.088329 -0.246342 -0.038406 -0.02932 -0.06462   \n",
       "1 -0.094079 -0.192755 -0.088329 -0.246342 -0.038406 -0.02932 -0.06462   \n",
       "2 -0.094079 -0.192755 -0.088329 -0.246342 -0.038406 -0.02932 -0.06462   \n",
       "3 -0.094079 -0.192755 -0.088329  0.850272 -0.038406 -0.02932 -0.06462   \n",
       "4 -0.094079 -0.192755 -0.088329 -0.246342 -0.038406 -0.02932 -0.06462   \n",
       "5 -0.094079 -0.192755 -0.088329  2.011213 -0.038406 -0.02932 -0.06462   \n",
       "6 -0.094079 -0.192755 -0.088329 -0.246342 -0.038406 -0.02932 -0.06462   \n",
       "7 -0.094079 -0.192755 -0.088329 -0.246342 -0.038406 -0.02932 -0.06462   \n",
       "8 -0.094079 -0.192755 -0.088329 -0.246342 -0.038406 -0.02932 -0.06462   \n",
       "9 -0.094079 -0.192755 -0.088329 -0.246342 -0.038406 -0.02932 -0.06462   \n",
       "\n",
       "      ABCG4     ABHD5    ABLIM3  ...    ZNF460  ZNF474-AS1  \\\n",
       "0 -0.011724 -0.468072 -0.141087  ... -0.200778   -0.005439   \n",
       "1 -0.011724 -0.468072 -0.141087  ... -0.200778   -0.005439   \n",
       "2 -0.011724 -0.468072 -0.141087  ... -0.200778   -0.005439   \n",
       "3 -0.011724 -0.468072 -0.141087  ... -0.200778   -0.005439   \n",
       "4 -0.011724 -0.468072 -0.141087  ... -0.200778   -0.005439   \n",
       "5 -0.011724  0.941356 -0.141087  ... -0.200778   -0.005439   \n",
       "6 -0.011724 -0.468072 -0.141087  ... -0.200778   -0.005439   \n",
       "7 -0.011724 -0.468072 -0.141087  ... -0.200778   -0.005439   \n",
       "8 -0.011724  0.425160 -0.141087  ... -0.200778   -0.005439   \n",
       "9 -0.011724 -0.468072 -0.141087  ... -0.200778   -0.005439   \n",
       "\n",
       "   ZNF542P_ENSG00000240225  ZNF593OS    ZNF728  ZNRD2-DT  ZRANB2-DT    ZSWIM2  \\\n",
       "0                -0.013607 -0.054294 -0.012434 -0.011179  -0.036577 -0.003058   \n",
       "1                -0.013607 -0.054294 -0.012434 -0.011179  -0.036577 -0.003058   \n",
       "2                -0.013607 -0.054294 -0.012434 -0.011179  -0.036577 -0.003058   \n",
       "3                -0.013607 -0.054294 -0.012434 -0.011179  -0.036577 -0.003058   \n",
       "4                -0.013607 -0.054294 -0.012434 -0.011179  -0.036577 -0.003058   \n",
       "5                -0.013607 -0.054294 -0.012434 -0.011179  -0.036577 -0.003058   \n",
       "6                -0.013607 -0.054294 -0.012434 -0.011179  -0.036577 -0.003058   \n",
       "7                -0.013607 -0.054294 -0.012434 -0.011179  -0.036577 -0.003058   \n",
       "8                -0.013607 -0.054294 -0.012434 -0.011179  -0.036577 -0.003058   \n",
       "9                -0.013607 -0.054294 -0.012434 -0.011179  -0.036577 -0.003058   \n",
       "\n",
       "   ZSWIM8-AS1  disease  \n",
       "0   -0.011319   normal  \n",
       "1   -0.011319   normal  \n",
       "2   -0.011319   normal  \n",
       "3   -0.011319   normal  \n",
       "4   -0.011319   normal  \n",
       "5   -0.011319   normal  \n",
       "6   -0.011319   normal  \n",
       "7   -0.011319   normal  \n",
       "8   -0.011319   normal  \n",
       "9   -0.011319   normal  \n",
       "\n",
       "[10 rows x 4001 columns]"
      ]
     },
     "execution_count": 9,
     "metadata": {},
     "output_type": "execute_result"
    }
   ],
   "source": [
    "sample_data=exp_data[:10]\n",
    "\n",
    "#save this file as a csv\n",
    "sample_data\n"
   ]
  },
  {
   "cell_type": "code",
   "execution_count": 10,
   "metadata": {},
   "outputs": [],
   "source": [
    "target_diseases = [\n",
    "    \"normal\",\n",
    "    \"chronic obstructive pulmonary disease\",\n",
    "    \"chronic rhinitis\",\n",
    "    \"pulmonary fibrosis\"\n",
    "]"
   ]
  },
  {
   "cell_type": "code",
   "execution_count": 11,
   "metadata": {},
   "outputs": [],
   "source": [
    "data = exp_data[exp_data['disease'].isin(target_diseases)]"
   ]
  },
  {
   "cell_type": "code",
   "execution_count": 12,
   "metadata": {},
   "outputs": [
    {
     "data": {
      "text/plain": [
       "['normal', 'chronic rhinitis', 'pulmonary fibrosis', 'chronic obstructive pulmonary disease']\n",
       "Categories (15, object): ['pulmonary sarcoidosis', 'pulmonary fibrosis', 'lung large cell carcinoma', 'chronic rhinitis', ..., 'hypersensitivity pneumonitis', 'non-specific interstitial pneumonia', 'COVID-19', 'normal']"
      ]
     },
     "execution_count": 12,
     "metadata": {},
     "output_type": "execute_result"
    }
   ],
   "source": [
    "data['disease'].unique()"
   ]
  },
  {
   "cell_type": "code",
   "execution_count": 13,
   "metadata": {},
   "outputs": [
    {
     "name": "stdout",
     "output_type": "stream",
     "text": [
      "disease\n",
      "normal                                   92924\n",
      "chronic rhinitis                          3057\n",
      "pulmonary fibrosis                        2577\n",
      "chronic obstructive pulmonary disease      173\n",
      "lung large cell carcinoma                    0\n",
      "lung adenocarcinoma                          0\n",
      "pulmonary sarcoidosis                        0\n",
      "squamous cell lung carcinoma                 0\n",
      "pneumonia                                    0\n",
      "lymphangioleiomyomatosis                     0\n",
      "cystic fibrosis                              0\n",
      "interstitial lung disease                    0\n",
      "hypersensitivity pneumonitis                 0\n",
      "non-specific interstitial pneumonia          0\n",
      "COVID-19                                     0\n",
      "Name: count, dtype: int64\n"
     ]
    }
   ],
   "source": [
    "disease_counts = data['disease'].value_counts()\n",
    "print(disease_counts)"
   ]
  },
  {
   "cell_type": "code",
   "execution_count": 14,
   "metadata": {},
   "outputs": [],
   "source": [
    "# Encode the disease column using one-hot encoding\n",
    "onehot_encoder = OneHotEncoder(sparse_output=False)\n",
    "y = onehot_encoder.fit_transform(data[['disease']])"
   ]
  },
  {
   "cell_type": "code",
   "execution_count": 15,
   "metadata": {},
   "outputs": [],
   "source": [
    "X = data.drop(columns=['disease'])"
   ]
  },
  {
   "cell_type": "code",
   "execution_count": 16,
   "metadata": {},
   "outputs": [
    {
     "name": "stdout",
     "output_type": "stream",
     "text": [
      "(98731, 4000) (98731, 4)\n"
     ]
    }
   ],
   "source": [
    "print(X.shape, y.shape)"
   ]
  },
  {
   "cell_type": "code",
   "execution_count": 17,
   "metadata": {},
   "outputs": [],
   "source": [
    "scaler = StandardScaler()\n",
    "X_scaled = scaler.fit_transform(X)\n"
   ]
  },
  {
   "cell_type": "code",
   "execution_count": 18,
   "metadata": {},
   "outputs": [],
   "source": [
    "# Perform train-test split\n",
    "X_train, X_test, y_train, y_test = train_test_split(\n",
    "    X_scaled, y, test_size=0.2, random_state=42, stratify=y\n",
    ")"
   ]
  },
  {
   "cell_type": "code",
   "execution_count": 19,
   "metadata": {},
   "outputs": [],
   "source": [
    "class ProbabilisticModel(tf.keras.Model):\n",
    "    def __init__(self, input_dim, num_classes):\n",
    "        super().__init__()\n",
    "        self.dense1 = layers.Dense(128, activation='relu')\n",
    "        self.dropout1 = layers.Dropout(0.3)\n",
    "        self.dense2 = layers.Dense(64, activation='relu')\n",
    "        self.dropout2 = layers.Dropout(0.3)\n",
    "        self.out = layers.Dense(num_classes, activation='softmax')\n",
    "\n",
    "    def call(self, inputs):\n",
    "        x = self.dense1(inputs)\n",
    "        x = self.dropout1(x)\n",
    "        x = self.dense2(x)\n",
    "        x = self.dropout2(x)\n",
    "        return self.out(x)"
   ]
  },
  {
   "cell_type": "code",
   "execution_count": 20,
   "metadata": {},
   "outputs": [
    {
     "name": "stderr",
     "output_type": "stream",
     "text": [
      "2024-12-16 10:00:36.400694: E external/local_xla/xla/stream_executor/cuda/cuda_driver.cc:152] failed call to cuInit: INTERNAL: CUDA error: Failed call to cuInit: CUDA_ERROR_NO_DEVICE: no CUDA-capable device is detected\n"
     ]
    }
   ],
   "source": [
    "num_classes = len(np.unique(y))\n",
    "input_dim = X_train.shape[1]\n",
    "model = ProbabilisticModel(input_dim=input_dim, num_classes=num_classes)"
   ]
  },
  {
   "cell_type": "code",
   "execution_count": 21,
   "metadata": {},
   "outputs": [],
   "source": [
    "# def latent_visualization(model, data):\n",
    "#     o1 = model.dense1(data)\n",
    "#     o2 = model.dropout1(o1)\n",
    "#     o3 = model.dense2(o2)\n",
    "#     # TSNE for visualization\n",
    "#     tsne = TSNE(n_components=2, random_state=42)\n",
    "#     o3_tsne = tsne.fit_transform(o3)\n",
    "#     return o3_tsne"
   ]
  },
  {
   "cell_type": "code",
   "execution_count": null,
   "metadata": {},
   "outputs": [],
   "source": []
  },
  {
   "cell_type": "code",
   "execution_count": null,
   "metadata": {},
   "outputs": [],
   "source": []
  },
  {
   "cell_type": "code",
   "execution_count": null,
   "metadata": {},
   "outputs": [],
   "source": []
  },
  {
   "cell_type": "code",
   "execution_count": null,
   "metadata": {},
   "outputs": [],
   "source": []
  }
 ],
 "metadata": {
  "kernelspec": {
   "display_name": "URT_NSCL",
   "language": "python",
   "name": "python3"
  },
  "language_info": {
   "codemirror_mode": {
    "name": "ipython",
    "version": 3
   },
   "file_extension": ".py",
   "mimetype": "text/x-python",
   "name": "python",
   "nbconvert_exporter": "python",
   "pygments_lexer": "ipython3",
   "version": "3.12.0"
  }
 },
 "nbformat": 4,
 "nbformat_minor": 2
}
